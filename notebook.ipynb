{
 "cells": [
  {
   "cell_type": "markdown",
   "metadata": {},
   "source": [
    "## Notebook in Snowpark Container Services "
   ]
  },
  {
   "cell_type": "markdown",
   "metadata": {},
   "source": [
    "### Import Libraries"
   ]
  },
  {
   "cell_type": "code",
   "execution_count": 1,
   "metadata": {
    "tags": []
   },
   "outputs": [],
   "source": [
    "from snowflake.snowpark.session import Session\n",
    "from snowflake.snowpark import VERSION\n",
    "import snowflake.snowpark.functions as F\n",
    "\n",
    "import sys\n",
    "import os\n",
    "import json\n",
    "import pandas as pd\n",
    "pd.set_option('display.max_colwidth', None)\n",
    "\n",
    "# Enable INFO log level\n",
    "# import logging\n",
    "# logging.basicConfig()\n",
    "# logging.getLogger().setLevel(logging.INFO)"
   ]
  },
  {
   "cell_type": "markdown",
   "metadata": {
    "tags": []
   },
   "source": [
    "### Set Variables"
   ]
  },
  {
   "cell_type": "code",
   "execution_count": 2,
   "metadata": {
    "tags": []
   },
   "outputs": [],
   "source": [
    "SNOWFLAKE_DATABASE  = os.getenv(\"SNOWFLAKE_DATABASE\")\n",
    "SNOWFLAKE_SCHEMA    = os.getenv(\"SNOWFLAKE_SCHEMA\")\n",
    "SNOWFLAKE_WAREHOUSE = 'DASH_L'"
   ]
  },
  {
   "cell_type": "markdown",
   "metadata": {},
   "source": [
    "### Establish Secure Connection"
   ]
  },
  {
   "cell_type": "code",
   "execution_count": 3,
   "metadata": {
    "tags": []
   },
   "outputs": [
    {
     "name": "stdout",
     "output_type": "stream",
     "text": [
      "Role                        : \"DASH_SPCS\"\n",
      "Database                    : \"DASH_DB\"\n",
      "Schema                      : \"DASH_SCHEMA\"\n",
      "Warehouse                   : \"DASH_L\"\n",
      "Snowpark for Python version : 1.14.0\n"
     ]
    }
   ],
   "source": [
    "# Read the login token supplied automatically by Snowflake. These tokens are short lived and should always be read right before creating any new connection.\n",
    "def get_login_token():\n",
    "  with open(\"/snowflake/session/token\", \"r\") as f:\n",
    "    return f.read()\n",
    "\n",
    "# Construct Snowflake connection params from environment variables.\n",
    "def get_connection_params():\n",
    "  return {\n",
    "    \"account\": os.getenv(\"SNOWFLAKE_ACCOUNT\"),\n",
    "    \"host\": os.getenv(\"SNOWFLAKE_HOST\"),\n",
    "    \"warehouse\": SNOWFLAKE_WAREHOUSE,\n",
    "    \"database\": SNOWFLAKE_DATABASE,\n",
    "    \"schema\": SNOWFLAKE_SCHEMA,\n",
    "    \"authenticator\": \"oauth\",\n",
    "    \"token\": get_login_token()\n",
    "  }\n",
    "\n",
    "# Create Snowflake Session object\n",
    "session = Session.builder.configs(get_connection_params()).create()\n",
    "session.sql_simplifier_enabled = True\n",
    "snowpark_version = VERSION\n",
    "\n",
    "# Current Environment Details\n",
    "print('Role                        : {}'.format(session.get_current_role()))\n",
    "print('Database                    : {}'.format(session.get_current_database()))\n",
    "print('Schema                      : {}'.format(session.get_current_schema()))\n",
    "print('Warehouse                   : {}'.format(session.get_current_warehouse()))\n",
    "print('Snowpark for Python version : {}.{}.{}'.format(snowpark_version[0],snowpark_version[1],snowpark_version[2]))"
   ]
  },
  {
   "cell_type": "markdown",
   "metadata": {},
   "source": [
    "### Load Data"
   ]
  },
  {
   "cell_type": "code",
   "execution_count": 4,
   "metadata": {
    "tags": []
   },
   "outputs": [
    {
     "name": "stdout",
     "output_type": "stream",
     "text": [
      "-----------------------------------------------------------------------------------------------------------------------------------\n",
      "|\"TOWER_ID\"  |\"TOWER_NAME\"  |\"LAT\"    |\"LON\"      |\"STATUS\"  |\"STATUS_MESSAGE\"        |\"LAST_COMM\"          |\"MAINTENANCE_DUE\"    |\n",
      "-----------------------------------------------------------------------------------------------------------------------------------\n",
      "|1           |Tower 1       |34.1755  |-118.3372  |Online    |Online                  |2024-04-07 00:00:00  |2024-04-07 00:00:00  |\n",
      "|2           |Tower 2       |34.0776  |-118.2376  |Online    |All systems normal      |2024-04-07 01:00:00  |2024-04-07 01:00:00  |\n",
      "|3           |Tower 3       |37.7744  |-122.4128  |Offline   |Power failure detected  |2024-04-07 02:00:00  |2024-04-07 02:00:00  |\n",
      "|4           |Tower 4       |37.7744  |-122.0724  |Online    |Online                  |2024-04-07 03:00:00  |2024-04-07 03:00:00  |\n",
      "|5           |Tower 5       |37.603   |-122.0771  |Online    |All systems normal      |2024-04-07 04:00:00  |2024-04-07 04:00:00  |\n",
      "|6           |Tower 6       |37.8044  |-122.2711  |Online    |All systems normal      |2024-04-07 05:00:00  |2024-04-07 05:00:00  |\n",
      "|7           |Tower 7       |37.3541  |-121.9552  |Online    |All systems normal      |2024-04-07 06:00:00  |2024-04-07 06:00:00  |\n",
      "|8           |Tower 8       |37.7922  |-122.4072  |Online    |All systems normal      |2024-04-07 07:00:00  |2024-04-07 07:00:00  |\n",
      "|9           |Tower 9       |37.9029  |-122.2921  |Online    |All systems normal      |2024-04-07 08:00:00  |2024-04-07 08:00:00  |\n",
      "|10          |Tower 10      |37.4419  |-122.143   |Online    |All systems normal      |2024-04-07 09:00:00  |2024-04-07 09:00:00  |\n",
      "-----------------------------------------------------------------------------------------------------------------------------------\n",
      "\n"
     ]
    }
   ],
   "source": [
    "df = session.table('cell_towers_ca').order_by(F.col('TOWER_ID'))\n",
    "df.show()"
   ]
  },
  {
   "cell_type": "code",
   "execution_count": null,
   "metadata": {},
   "outputs": [],
   "source": []
  }
 ],
 "metadata": {
  "kernelspec": {
   "display_name": "Python 3 (ipykernel)",
   "language": "python",
   "name": "python3"
  },
  "language_info": {
   "codemirror_mode": {
    "name": "ipython",
    "version": 3
   },
   "file_extension": ".py",
   "mimetype": "text/x-python",
   "name": "python",
   "nbconvert_exporter": "python",
   "pygments_lexer": "ipython3",
   "version": "3.10.11"
  }
 },
 "nbformat": 4,
 "nbformat_minor": 4
}
